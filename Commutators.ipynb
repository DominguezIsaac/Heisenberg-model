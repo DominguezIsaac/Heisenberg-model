{
 "cells": [
  {
   "cell_type": "code",
   "execution_count": null,
   "metadata": {},
   "outputs": [],
   "source": [
    "#SPIN OPERATORS\n",
    "import numpy as np\n",
    "from matplotlib import pyplot as plt\n",
    "\n",
    "#Pauli matrices\n",
    "X=np.array([[0,1],[1,0]])\n",
    "Y=np.array([[0,-1j],[1j,0]])\n",
    "Z=np.array([[1,0],[0,-1]])\n",
    "I=np.array([[1,0],[0,1]])\n",
    "\n",
    "#Spin 1/2 matrices (h=1)\n",
    "S_X=1/2*X\n",
    "S_Y=1/2*Y\n",
    "S_Z=1/2*Z\n",
    "S_element=[S_X,S_Y,S_Z]\n",
    "\n",
    "#Commutator\n",
    "def comm(x,y):\n",
    "    return x@y-y@x # @ is used to multiply matrices\n",
    "\n",
    "#CLOSED SPIN CHAIN WITH L ELEMNTS (DIMENSION 2^L) optimized version \n",
    "def spin_operator(site, op, L): #site is the position of the tensor product where the operator goes. op is one of the Pauli matrices. L is the number of spins\n",
    "    operators = [I] * L  # operators is a vector of L operators, initially all identities\n",
    "    operators[site] = op  # We put the Pauli matrix (op) in the place we want [site]. For example, for site=2, op=S_Y ,L=4 we get operators=[I,I,S_y,I]. Now, we need to do the tensor product. \n",
    "    result=operators[0]\n",
    "    for i in range(1,L):\n",
    "        result=np.kron(result,operators[i]) #for i=0 we are doing operators[0]\\otimes operators[1] and we save this in result. In the next step we do result \\otimes operators[2] and so on. \n",
    "    return result #In our example, spin_operator(2,S_y,4)=I\\otimes I\\otimes S_Y\\otimes Y\n",
    "\n",
    "\n",
    "#SPIN MATRICES OF EACH PARTICLE IN HILBERT SPACE DIM=2^L=16\n",
    "L=4 #From now on we work with a 4 spin chain but you only need to change this parameter to change the size of the chain\n",
    "S=[] #Array, each row has to be composed of the 3 S operators of each particle in the whole hilbert space\n",
    "for k in range(L):\n",
    "    S_i=[] #Each row\n",
    "    for l in S_element: #S_element has the 3 S operators\n",
    "        S_i.append(spin_operator(k,l,L))\n",
    "    S.append(S_i)\n",
    "#Now S[0][1] is the S_Y operator of the 1st particle S_Y*I*I*I, or S[2][2]=I*I*S_Z*I\n",
    "\n",
    "#print(comm(S[0][0],S[0][1])-1j*S[0][2]) #Check with the commutator that the operators are well defined\n",
    "\n",
    "#TOTAL SPIN MATRICES (sum over all particles of each spin operator)\n",
    "S_total=[]\n",
    "for i in range(3): #loop over S_x S_y and S_z\n",
    "    S_total.append(S[0][i]) #First we append the s_i=S_x,s_y,S_z of the first particle \n",
    "    for j in range(1,L):\n",
    "        S_total[i]+=S[j][i] #We sum from the second particle (the first is already there) up to the L-th\n",
    "\n",
    "#TOTAL S^2 OPERATOR\n",
    "S2=S_total[0]@S_total[0]+S_total[1]@S_total[1]+S_total[2]@S_total[2]\n",
    "    "
   ]
  },
  {
   "cell_type": "code",
   "execution_count": 21,
   "metadata": {},
   "outputs": [],
   "source": [
    "#HAMILTONIAN XXX model\n",
    "\n",
    "H_XXX=S[0][0]@S[1][0]+S[0][1]@S[1][1]+S[0][2]@S[1][2] #we initialize the hamiltonian with the first term in order to start with a matrix\n",
    "\n",
    "for i in range(1,L): #Now we run the loop from the second term because the first one is already done\n",
    "    for j in range(3): #Now we sum to perform the dot product of the i spin operator with the i+1 \n",
    "        H_XXX+=S[i][j]@S[(i+1)%L][j] #IMPORTANT, how do we impose the periodic boundary condition. With (i+1)%L works. % is the modulo operation, makes the division between i+1 and L and returns the reminder. For all i+1<L (all except for the las one) the reminder is indeed i+1 so nothing changes. But for i+1=L (the one that would give problems because you are out of list) the reminder is 0 so we go back to the first spin!\n",
    "        "
   ]
  },
  {
   "cell_type": "code",
   "execution_count": 22,
   "metadata": {},
   "outputs": [],
   "source": [
    "#HAMILTONIAN XXZ model\n",
    "\n",
    "Delta=3 #anisotropy parameter\n",
    "\n",
    "H_XXZ=S[0][0]@S[1][0]+S[0][1]@S[1][1]+Delta*S[0][2]@S[1][2] \n",
    "\n",
    "for i in range(1,L): \n",
    "    for j in range(3):  \n",
    "        if j<2:\n",
    "            H_XXZ+=S[i][j]@S[(i+1)%L][j] \n",
    "        else:\n",
    "            H_XXZ+=Delta*S[i][j]@S[(i+1)%L][j] "
   ]
  },
  {
   "cell_type": "code",
   "execution_count": 28,
   "metadata": {},
   "outputs": [
    {
     "name": "stdout",
     "output_type": "stream",
     "text": [
      "Symmetry [H_XXX, S^2]: YES, they commute!\n",
      "Symmetry [H_XXX, S_z]: YES, they commute!\n",
      "Symmetry [H_XXZ, S^2]: NO, they don't commute\n",
      "Symmetry [H_XXZ, S_z]: YES, they commute!\n"
     ]
    }
   ],
   "source": [
    "# CHECKING SYMMETRIES\n",
    "null_operator = np.zeros((2**L, 2**L), dtype=complex) #null operator no compare if the commutator gives 0 \n",
    "\n",
    "def check_symm(hamiltonian, symmetry): #we perform the commutator between the hamiltonian and the symmetry operator\n",
    "    commutator = comm(hamiltonian, symmetry)\n",
    "    if np.allclose(commutator, null_operator, atol=1e-10):  #Allclose compare each element of both matrices and return true if they are equal. Numpy can have numerical error and even though the commutator is 0 the output can be slightly different, so we tolarate some error with atol\n",
    "        print(\"YES, they commute!\")\n",
    "    else:\n",
    "        print(\"NO, they don't commute\")\n",
    "\n",
    "# Time to check the symmetries with our hamiltonians\n",
    "\n",
    "print(\"Symmetry [H_XXX, S^2]:\", end=\" \")\n",
    "check_symm(H_XXX, S2)\n",
    "\n",
    "print(\"Symmetry [H_XXX, S_z]:\", end=\" \")\n",
    "check_symm(H_XXX, S_total[2])\n",
    "\n",
    "print(\"Symmetry [H_XXZ, S^2]:\", end=\" \")\n",
    "check_symm(H_XXZ, S2)\n",
    "\n",
    "print(\"Symmetry [H_XXZ, S_z]:\", end=\" \")\n",
    "check_symm(H_XXZ, S_total[2])\n"
   ]
  }
 ],
 "metadata": {
  "kernelspec": {
   "display_name": "bsc-qml",
   "language": "python",
   "name": "python3"
  },
  "language_info": {
   "codemirror_mode": {
    "name": "ipython",
    "version": 3
   },
   "file_extension": ".py",
   "mimetype": "text/x-python",
   "name": "python",
   "nbconvert_exporter": "python",
   "pygments_lexer": "ipython3",
   "version": "3.10.16"
  }
 },
 "nbformat": 4,
 "nbformat_minor": 2
}
